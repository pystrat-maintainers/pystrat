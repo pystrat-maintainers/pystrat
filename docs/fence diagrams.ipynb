{
 "cells": [
  {
   "cell_type": "markdown",
   "id": "001884b6-ff2a-45dc-84a6-a09fe3440b6d",
   "metadata": {},
   "source": [
    "# Fence Diagrams"
   ]
  },
  {
   "cell_type": "markdown",
   "id": "1c70388a-62db-43b6-b780-27b3513b7af1",
   "metadata": {},
   "source": [
    "This section presents advanced functionality for [`pystrat.Fence`](api/pystrat.rst#pystrat.pystrat.Fence) objects, which permits plotting of fence diagrams with multiple sections."
   ]
  },
  {
   "cell_type": "markdown",
   "id": "b2cadae5-1a16-4625-9722-eb5e3d0bd0ac",
   "metadata": {},
   "source": [
    "## Section Distances"
   ]
  },
  {
   "cell_type": "markdown",
   "id": "2120612d-5e92-49f8-ae19-29abdbadc989",
   "metadata": {},
   "source": [
    "## Stratigraphic Data"
   ]
  }
 ],
 "metadata": {
  "kernelspec": {
   "display_name": "Python 3 (ipykernel)",
   "language": "python",
   "name": "python3"
  },
  "language_info": {
   "codemirror_mode": {
    "name": "ipython",
    "version": 3
   },
   "file_extension": ".py",
   "mimetype": "text/x-python",
   "name": "python",
   "nbconvert_exporter": "python",
   "pygments_lexer": "ipython3",
   "version": "3.12.8"
  }
 },
 "nbformat": 4,
 "nbformat_minor": 5
}
