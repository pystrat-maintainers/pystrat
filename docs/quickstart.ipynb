{
 "cells": [
  {
   "cell_type": "markdown",
   "id": "1bb66c07-5ab9-4621-a531-75711a01452b",
   "metadata": {},
   "source": [
    "# `pystrat` Quickstart Guide"
   ]
  },
  {
   "cell_type": "markdown",
   "id": "22517350-43ca-430a-aecc-35c74c3754be",
   "metadata": {},
   "source": [
    "This Jupyter notebook is intended to quickly demonstrate core `pystrat` functionality. \n",
    "\n",
    "The example data files used in this guide can be found [here](https://github.com/pystrat-maintainers/pystrat/tree/main/docs/example-data)."
   ]
  },
  {
   "cell_type": "markdown",
   "id": "5077b685-adbf-42c3-9047-f6cacd41f0a8",
   "metadata": {},
   "source": [
    "## Installation"
   ]
  },
  {
   "cell_type": "markdown",
   "id": "02c24d7c-0e44-45c8-a1fc-71d322c0aedd",
   "metadata": {},
   "source": [
    "To install `pystrat`, use `pip`:\n",
    "```bash\n",
    "pip install pystrat\n",
    "```"
   ]
  },
  {
   "cell_type": "code",
   "execution_count": 1,
   "id": "faba2776-e571-4756-a459-215fba01d2d9",
   "metadata": {},
   "outputs": [],
   "source": [
    "import pandas as pd\n",
    "import numpy as np\n",
    "import matplotlib.pyplot as plt\n",
    "\n",
    "import pystrat"
   ]
  },
  {
   "cell_type": "markdown",
   "id": "461f09b6-2119-4320-a5db-3bed58a5b08c",
   "metadata": {},
   "source": [
    "## Input Data"
   ]
  },
  {
   "cell_type": "markdown",
   "id": "4a17a80c-62eb-4557-a9c0-24b54c699662",
   "metadata": {},
   "source": [
    "To plot sections with `pystrat`, it is necessary to provide a spreadsheet for each section in which the rows (downwards) correspond to units/beds going stratigraphically upwards, and there are minimally the following columns (see [example](example-data/lithostratigraphy.csv)):\n",
    "- unit thickness (numeric)\n",
    "- facies (string)\n",
    "\n",
    "The facies column dictates how each unit will be visualized according to the styling."
   ]
  },
  {
   "cell_type": "markdown",
   "id": "3b425e38-ad5d-41a9-88df-4510b7be00d1",
   "metadata": {},
   "source": [
    "The following code creates a `pystrat.Section`:"
   ]
  },
  {
   "cell_type": "code",
   "execution_count": 2,
   "id": "5a888315-87f0-43b9-951c-a3c3c6c8c112",
   "metadata": {},
   "outputs": [],
   "source": [
    "# read in your lithostratigraphy data\n",
    "litho_df = pd.read_csv('example-data/lithostratigraphy.csv')\n",
    "\n",
    "# create a pystrat Section from the lithostratigraphy data\n",
    "section = pystrat.Section(litho_df['THICKNESS'],           # unit thicknesses\n",
    "                          litho_df['FACIES'])              # unit facies"
   ]
  },
  {
   "cell_type": "markdown",
   "id": "6504cca1-8cf4-4c78-9ac2-08eeefede8ca",
   "metadata": {},
   "source": [
    "### Styling"
   ]
  },
  {
   "cell_type": "markdown",
   "id": "8f265940-365a-4ea2-bdf6-4ffd8f15f1ab",
   "metadata": {},
   "source": [
    "Before plotting sections, it is necessary to define a `pystrat.Style` object. This object provides the styling information for widths, colors, and swatches for units within a section, as well as annotations that can be plotted alongside sections.\n",
    "\n",
    "The styling logic is based on the unit facies, whereby each facies has a unique style specified in `pystrat.Style`. "
   ]
  },
  {
   "cell_type": "code",
   "execution_count": 3,
   "id": "36656870-06af-4346-b26b-e91739692cd3",
   "metadata": {},
   "outputs": [
    {
     "data": {
      "application/vnd.microsoft.datawrangler.viewer.v0+json": {
       "columns": [
        {
         "name": "index",
         "rawType": "int64",
         "type": "integer"
        },
        {
         "name": "facies",
         "rawType": "object",
         "type": "string"
        },
        {
         "name": "R",
         "rawType": "int64",
         "type": "integer"
        },
        {
         "name": "G",
         "rawType": "int64",
         "type": "integer"
        },
        {
         "name": "B",
         "rawType": "int64",
         "type": "integer"
        },
        {
         "name": "width",
         "rawType": "float64",
         "type": "float"
        },
        {
         "name": "swatch",
         "rawType": "int64",
         "type": "integer"
        }
       ],
       "conversionMethod": "pd.DataFrame",
       "ref": "f635b989-afd8-46b7-87f8-9adb692866ec",
       "rows": [
        [
         "0",
         "cover",
         "255",
         "255",
         "255",
         "0.2",
         "0"
        ],
        [
         "1",
         "grainstone",
         "248",
         "169",
         "85",
         "0.8",
         "627"
        ],
        [
         "2",
         "intraclast breccia",
         "200",
         "100",
         "255",
         "1.0",
         "605"
        ],
        [
         "3",
         "marl",
         "119",
         "136",
         "187",
         "0.4",
         "623"
        ],
        [
         "4",
         "marl-ribbonite",
         "119",
         "136",
         "187",
         "0.4",
         "623"
        ]
       ],
       "shape": {
        "columns": 6,
        "rows": 5
       }
      },
      "text/html": [
       "<div>\n",
       "<style scoped>\n",
       "    .dataframe tbody tr th:only-of-type {\n",
       "        vertical-align: middle;\n",
       "    }\n",
       "\n",
       "    .dataframe tbody tr th {\n",
       "        vertical-align: top;\n",
       "    }\n",
       "\n",
       "    .dataframe thead th {\n",
       "        text-align: right;\n",
       "    }\n",
       "</style>\n",
       "<table border=\"1\" class=\"dataframe\">\n",
       "  <thead>\n",
       "    <tr style=\"text-align: right;\">\n",
       "      <th></th>\n",
       "      <th>facies</th>\n",
       "      <th>R</th>\n",
       "      <th>G</th>\n",
       "      <th>B</th>\n",
       "      <th>width</th>\n",
       "      <th>swatch</th>\n",
       "    </tr>\n",
       "  </thead>\n",
       "  <tbody>\n",
       "    <tr>\n",
       "      <th>0</th>\n",
       "      <td>cover</td>\n",
       "      <td>255</td>\n",
       "      <td>255</td>\n",
       "      <td>255</td>\n",
       "      <td>0.2</td>\n",
       "      <td>0</td>\n",
       "    </tr>\n",
       "    <tr>\n",
       "      <th>1</th>\n",
       "      <td>grainstone</td>\n",
       "      <td>248</td>\n",
       "      <td>169</td>\n",
       "      <td>85</td>\n",
       "      <td>0.8</td>\n",
       "      <td>627</td>\n",
       "    </tr>\n",
       "    <tr>\n",
       "      <th>2</th>\n",
       "      <td>intraclast breccia</td>\n",
       "      <td>200</td>\n",
       "      <td>100</td>\n",
       "      <td>255</td>\n",
       "      <td>1.0</td>\n",
       "      <td>605</td>\n",
       "    </tr>\n",
       "    <tr>\n",
       "      <th>3</th>\n",
       "      <td>marl</td>\n",
       "      <td>119</td>\n",
       "      <td>136</td>\n",
       "      <td>187</td>\n",
       "      <td>0.4</td>\n",
       "      <td>623</td>\n",
       "    </tr>\n",
       "    <tr>\n",
       "      <th>4</th>\n",
       "      <td>marl-ribbonite</td>\n",
       "      <td>119</td>\n",
       "      <td>136</td>\n",
       "      <td>187</td>\n",
       "      <td>0.4</td>\n",
       "      <td>623</td>\n",
       "    </tr>\n",
       "  </tbody>\n",
       "</table>\n",
       "</div>"
      ],
      "text/plain": [
       "               facies    R    G    B  width  swatch\n",
       "0               cover  255  255  255    0.2       0\n",
       "1          grainstone  248  169   85    0.8     627\n",
       "2  intraclast breccia  200  100  255    1.0     605\n",
       "3                marl  119  136  187    0.4     623\n",
       "4      marl-ribbonite  119  136  187    0.4     623"
      ]
     },
     "execution_count": 3,
     "metadata": {},
     "output_type": "execute_result"
    }
   ],
   "source": [
    "style_df = pd.read_csv('example-data/style.csv')\n",
    "style_df.head()"
   ]
  },
  {
   "cell_type": "markdown",
   "id": "ba2a8f7d-1a79-40c4-acaf-042d92026dc0",
   "metadata": {},
   "source": [
    "A styling spreadsheet minimally contains the following columns (see [example](example-data/style.csv)):\n",
    "- facies (string)\n",
    "- color (must be interpretable to `matplotlib`)\n",
    "- width (numeric)"
   ]
  },
  {
   "cell_type": "code",
   "execution_count": 4,
   "id": "a73415be-3546-4cd4-af05-e9c467198178",
   "metadata": {},
   "outputs": [],
   "source": [
    "style = pystrat.Style(style_df['facies'],                  # labels (must include all unique facies)\n",
    "                         style_df[['R','G','B']]/255,         # colors \n",
    "                         style_df['width'],                   # widths \n",
    "                         swatch_values=style_df['swatch'])    # swatches"
   ]
  },
  {
   "cell_type": "markdown",
   "id": "62905f0e-e18b-442b-b614-6be17201352f",
   "metadata": {},
   "source": [
    "Styles can be easily visualized to generate legends."
   ]
  },
  {
   "cell_type": "code",
   "execution_count": 5,
   "id": "335818f8-abd5-46be-8f70-577fb64ddae3",
   "metadata": {},
   "outputs": [
    {
     "data": {
      "image/png": "[encoded data removed]",
      "text/plain": [
       "<Figure size 200x300 with 1 Axes>"
      ]
     },
     "metadata": {},
     "output_type": "display_data"
    }
   ],
   "source": [
    "fig, ax = plt.subplots(1, 1, figsize=(2, 3))\n",
    "style.plot_legend(ax=ax)"
   ]
  },
  {
   "cell_type": "markdown",
   "id": "6e213beb-44b0-4b0b-8af8-e32575f46c69",
   "metadata": {},
   "source": [
    "## Single Section Plotting"
   ]
  },
  {
   "cell_type": "markdown",
   "id": "1b2cb8b6-97b3-44e7-859b-7c3541048cb9",
   "metadata": {},
   "source": [
    "With a style specified, the section defined above can be plotted."
   ]
  },
  {
   "cell_type": "code",
   "execution_count": 6,
   "id": "9a2a91f0-0a45-45af-b840-b5ffda975e90",
   "metadata": {},
   "outputs": [
    {
     "data": {
      "image/png": "[encoded data removed]",
      "text/plain": [
       "<Figure size 200x700 with 1 Axes>"
      ]
     },
     "metadata": {},
     "output_type": "display_data"
    }
   ],
   "source": [
    "# plot the section using the style\n",
    "fig = plt.figure(figsize=(2, 7))\n",
    "# note that due to how swatches are plotted, it is preferrable to define an Axes object with a specified ylim to accommodate the section\n",
    "ax = plt.axes(ylim=[0, section.total_thickness])   \n",
    "section.plot(style, ax=ax)\n",
    "plt.show()"
   ]
  },
  {
   "cell_type": "markdown",
   "id": "bd6bfe4f-81e9-4a2b-a9ba-53eed20431e0",
   "metadata": {},
   "source": [
    ":::{important} Note that above, a `matplotlib.pyplot.Axes` object was explicitly created, and its y-axis limits were set according to the overall stratigraphic thickness. It is strongly recommended to explicitly define axes when using swatches so that the swatches maintain their correct aspect ratios."
   ]
  },
  {
   "cell_type": "markdown",
   "id": "fc6f1b9d-37b0-4d63-b710-3f9265873497",
   "metadata": {},
   "source": [
    "Sections can easily be saved as figures using the customary `matplotlib` `savefig` function:\n",
    "```python\n",
    "plt.savefig('<name_of_figure>.pdf', format='pdf', bbox_inches='tight', dpi=600)\n",
    "```\n",
    "If swatches appear to be low resolution in exported figures, simply increase their resolution by increasing the `dpi=` parameter."
   ]
  }
 ],
 "metadata": {
  "kernelspec": {
   "display_name": "base",
   "language": "python",
   "name": "python3"
  },
  "language_info": {
   "codemirror_mode": {
    "name": "ipython",
    "version": 3
   },
   "file_extension": ".py",
   "mimetype": "text/x-python",
   "name": "python",
   "nbconvert_exporter": "python",
   "pygments_lexer": "ipython3",
   "version": "3.12.8"
  }
 },
 "nbformat": 4,
 "nbformat_minor": 5
}
