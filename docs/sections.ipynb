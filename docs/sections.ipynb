{
 "cells": [
  {
   "cell_type": "markdown",
   "id": "eb8c3283-299e-402f-a331-3f2490f713a1",
   "metadata": {},
   "source": [
    "# Sections"
   ]
  },
  {
   "cell_type": "markdown",
   "id": "9f6807c6-4b96-448b-a8a1-8d90b953411a",
   "metadata": {},
   "source": [
    "This section reviews more advanced functionality for creating and manipulating `pystrat.Section` objects and plotting stratigraphic sections.\n",
    "\n",
    "The example data utilized here comes from the references listed at the end of the guide."
   ]
  },
  {
   "cell_type": "markdown",
   "id": "48a975cb-e763-43a0-b88e-a291757d6295",
   "metadata": {},
   "source": [
    "## Units"
   ]
  },
  {
   "cell_type": "code",
   "execution_count": null,
   "id": "41438e5e-15c0-4074-acce-bf0163bef8eb",
   "metadata": {},
   "outputs": [],
   "source": [
    "# read in your lithostratigraphy data\n",
    "litho_df = pd.read_csv('example-data/lithostratigraphy.csv')\n",
    "\n",
    "# create a pystrat Section from the lithostratigraphy data\n",
    "section_01 = pystrat.Section(litho_df['THICKNESS'],           # unit thicknesses\n",
    "                             litho_df['FACIES'],              # unit facies\n",
    "                             units=litho_df[['GROUP', 'FORMATION']].values) # group and formation names"
   ]
  },
  {
   "cell_type": "markdown",
   "id": "88061789-f5ca-4fa2-a7ca-3e9315090909",
   "metadata": {},
   "source": [
    "## Advanced Styling"
   ]
  },
  {
   "cell_type": "markdown",
   "id": "538942be-ec9a-4550-a70c-b1f5469a2d79",
   "metadata": {},
   "source": [
    "### Annotations"
   ]
  },
  {
   "cell_type": "markdown",
   "id": "6c844799-cef0-4807-9606-5a908a9bab7d",
   "metadata": {},
   "source": [
    "### Style Compatibility"
   ]
  },
  {
   "cell_type": "markdown",
   "id": "7393c557-0011-4a76-a46e-bb5492f9ded5",
   "metadata": {},
   "source": [
    "## Stratigraphic Data"
   ]
  },
  {
   "cell_type": "markdown",
   "id": "688a005f-3076-4665-b351-1f84b8b4d698",
   "metadata": {},
   "source": [
    "## Helper Functions"
   ]
  },
  {
   "cell_type": "markdown",
   "id": "b8f41921-0cf2-4212-980a-569eb5a1a276",
   "metadata": {},
   "source": [
    "The `pystrat.Section` class offers various helpful functions relevant for stratigraphic sections."
   ]
  },
  {
   "cell_type": "code",
   "execution_count": null,
   "id": "f304273a-de3b-4792-8585-6239a6f6d5a8",
   "metadata": {},
   "outputs": [],
   "source": []
  },
  {
   "cell_type": "markdown",
   "id": "003410f7-9a55-4062-ae36-d974e54d15f6",
   "metadata": {},
   "source": [
    "## References"
   ]
  },
  {
   "cell_type": "markdown",
   "id": "c70eb7c5-9c4c-4661-9bac-b360b30010ac",
   "metadata": {},
   "source": [
    "> Swanson-Hysell, N.L., Maloof, A.C., Condon, D.J., Jenkin, G.R., Alene, M., Tremblay, M.M., Tesema, T., Rooney, A.D., and Haileab, B., 2015, Stratigraphy and geochronology of the Tambien Group, Ethiopia: Evidence for globally synchronous carbon isotope change in the Neoproterozoic: Geology, v. 43, p. 323-326, https://doi.org/10.1130/G36347.1.\n",
    "\n",
    "> MacLennan, S.A., Park, Y., Swanson-Hysell, N.L., Maloof, A.C., Schoene, B., Gebreslassie, M., Antilla, E., Tesema, T., Alene, M., and Haileab, B., 2018, The arc of the Snowball: U-Pb dates constrain the Islay anomaly and the initiation of the Sturtian glaciation: Geology, v. 46, p. 539-542, https://doi.org/10.1130/G40171.1.\n",
    "\n",
    ">Park, Y., Swanson-Hysell, N.L., MacLennan, S.A., Maloof, A.C., Gebreslassie, M., Tremblay, M.M., Schoene, B., Alene, M., Anttila, E.S.C., Tesema, T., Condon, D.J., Haileab, B., 2020, The lead-up to the Sturtian Snowball Earth: Neoproterozoic chemostratigraphy time-calibrated by the Tambien Group of Ethiopia: GSA Bulletin, vol. 132, pp. 1119–1149, https://doi.org/10.1130/B35178.1"
   ]
  }
 ],
 "metadata": {
  "kernelspec": {
   "display_name": "Python 3 (ipykernel)",
   "language": "python",
   "name": "python3"
  },
  "language_info": {
   "codemirror_mode": {
    "name": "ipython",
    "version": 3
   },
   "file_extension": ".py",
   "mimetype": "text/x-python",
   "name": "python",
   "nbconvert_exporter": "python",
   "pygments_lexer": "ipython3",
   "version": "3.12.8"
  }
 },
 "nbformat": 4,
 "nbformat_minor": 5
}
